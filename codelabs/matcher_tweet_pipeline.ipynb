{
 "cells": [
  {
   "cell_type": "markdown",
   "metadata": {},
   "source": [
    "# Tweet pre-labeling pipeline \n",
    "#### Purpose is to find, label, and predict roads and muni routes/stops in tweets"
   ]
  },
  {
   "cell_type": "code",
   "execution_count": 1,
   "metadata": {},
   "outputs": [],
   "source": [
    "# External library imports\n",
    "from bs4 import BeautifulSoup # only needed to scrape street names and muni names\n",
    "import pandas as pd\n",
    "import numpy as np\n",
    "\n",
    "# SpaCy imports\n",
    "import spacy\n",
    "from spacy.pipeline import EntityRuler\n",
    "from spacy import displacy\n",
    "from spacy.tokens import Span, Doc\n",
    "\n",
    "# Standard imports\n",
    "import requests # only needed to scrape street names and muni names\n",
    "import os\n",
    "from ast import literal_eval as lit # for decoding string literals"
   ]
  },
  {
   "cell_type": "markdown",
   "metadata": {},
   "source": [
    "## Strategy and Stages to Train NER\n",
    "\n",
    "1. Exact match road names and muni lines from external source to make match patterns\n",
    "2. Format tweets that exactly match the patterns as training data for NER\n",
    "3. Train NER using training data to get better context for matches to generalize"
   ]
  },
  {
   "cell_type": "markdown",
   "metadata": {},
   "source": [
    "## Order of operations\n",
    "\n",
    "1. Load standard NLP model\n",
    "2. Use NLP model or other methods to clean up road and muni stop/route names\n",
    "3. Make patterns from road and muni stop/route names\n",
    "4. Add patterns to EntityRuler() (could use Matcher() pipeline for similar results)\n",
    "5. Add EntityRuler() to NLP to exact-match patterns\n",
    "6. Use NLP+ER to examine tweets\n",
    "7. Extract training tuples from parsed tweets to train the NER properly\n",
    "8. ..."
   ]
  },
  {
   "cell_type": "markdown",
   "metadata": {},
   "source": [
    "## To Do List\n",
    "1. [x] Make match patterns from street names  \n",
    "2. [x] Make muni patterns from muni stops and lines to be used by `EntityRuler()`\n",
    "2. [x] Make match pipeline to roughly label tweets\n",
    "2. [x] Make training tuples for docs that match, including char_start_index, char_end_index, and entity label, to train NER.\n",
    "4. [ ] Train NER to be more flexible than ridged match patterns\n",
    "3. ....\n",
    "\n",
    "URLs to get road names and muni stops:  \n",
    "road names: https://geographic.org/streetview/usa/ca/san_francisco.html  \n",
    "muni stops: https://www.sfmta.com/getting-around/muni/routes-stops\n",
    "  \n",
    "  \n",
    "Other useful URLs:  \n",
    "match patterns: https://spacy.io/usage/rule-based-matching#adding-patterns-attributes  \n",
    "hashtags and emojis (could apply to mentions as well): https://spacy.io/usage/rule-based-matching#example3  \n",
    "part-of-speech and other abbrieviations: https://spacy.io/api/annotation"
   ]
  },
  {
   "cell_type": "markdown",
   "metadata": {},
   "source": [
    "### Load SpaCy NLP model"
   ]
  },
  {
   "cell_type": "code",
   "execution_count": 2,
   "metadata": {},
   "outputs": [],
   "source": [
    "# load premade model\n",
    "nlp = spacy.load('en_core_web_sm')"
   ]
  },
  {
   "cell_type": "markdown",
   "metadata": {},
   "source": [
    "### Load or make patterns from webscraped list of street names - could be streamlined further"
   ]
  },
  {
   "cell_type": "code",
   "execution_count": 19,
   "metadata": {},
   "outputs": [
    {
     "name": "stdout",
     "output_type": "stream",
     "text": [
      "response: 200\n",
      "\n",
      "All characters included in matching patterns, look out for weird symbols:\n",
      "[\"'\", '0', '1', '2', '3', '4', '5', '6', '7', '8', '9', 'a', 'b', 'c', 'd', 'e', 'f', 'g', 'h', 'i', 'j', 'k', 'l', 'm', 'n', 'o', 'p', 'q', 'r', 's', 't', 'u', 'v', 'w', 'x', 'y', 'z']\n",
      "\n",
      "Number of road patterns: 2416\n"
     ]
    }
   ],
   "source": [
    "# Check if patterns already exist before scraping\n",
    "if os.path.exists('road_patterns.txt'):\n",
    "    with open('road_patterns.txt', 'r') as f:\n",
    "        road_patterns = lit(f.read())\n",
    "        \n",
    "# Scrape street name website\n",
    "else:\n",
    "    street_url = 'https://geographic.org/streetview/usa/ca/san_francisco.html'\n",
    "    response = requests.get(street_url)\n",
    "    print('response:', response.status_code)\n",
    "    \n",
    "    # Parse for list items from list of streets\n",
    "    soup = BeautifulSoup(response.text, 'lxml')\n",
    "    lis = soup.findAll('li')\n",
    "    # Remove San Francisco from matching\n",
    "    lis = [li.text for li in lis if li.text[:6] != 'San Fr']\n",
    "        \n",
    "    # Instantiate list for patterns\n",
    "    road_patterns = []\n",
    "    # And characters used in matching\n",
    "    characters = []\n",
    "    \n",
    "    # Make lists for coditional statements to test against\n",
    "    # Accounting for 3 scenarios:\n",
    "    # 1. Road name is a common word like \"High St.\" or \"D Ave.\"\n",
    "    #    -> check against alphabet and common_word lists\n",
    "    # 2. Road name contains weird characters\n",
    "    #    -> check against list of weird characts, output a list of characters used allowed through\n",
    "    # 3. Road deisgnator (ex: Street, St., Rd.) is not often used in text (make optional)\n",
    "    #    -> make optional IF not part of a common_word road name.\n",
    "    # 4. Road has unnecessary portion after a dash.\n",
    "    #    -> break loop when (text == '-').\n",
    "    \n",
    "    common_words = ['high', 'day', 'still', 'signal', 'lane', 'guy',\n",
    "                    'fell', 'auto', 'sacramento', 'service', 'clipper',\n",
    "                    'francisco', 'green', 'cross', 'main', 'white',\n",
    "                    'short', 'hill', 'front', 'park', 'head', 'bay', 'long']\n",
    "    bad_chars = ['&', '/', '½', '¿', 'ï', ':']\n",
    "    road_designators = ['rd', 'pl', 'st', 'ln', 'dr', 'ct', 'loop', 'way', 'cir', 'ave', 'blvd',\n",
    "                        'road', 'place', 'street', 'drive', 'court', 'circle', 'avenue']\n",
    "    alphabet = ['a', 'b', 'c', 'd', 'e', 'f', 'g', 'h', 'i', 'j', 'k', 'l', 'm', \n",
    "               'n', 'o', 'p', 'q', 'r', 's', 't', 'u', 'v', 'w', 'x', 'y', 'z']\n",
    "    \n",
    "    for li in lis:\n",
    "        # Instantiate pattern for each list item (street name)\n",
    "        pattern = []\n",
    "        # Instantiate booleans for bad characters test and,\n",
    "        # boolean streets that require road designator (e.g. St., Ln., Ct., Dr., etc.)\n",
    "        bad_char = False\n",
    "        specific_street = False\n",
    "        \n",
    "        # Check for common word street names (Note that this method accounts for cases like\n",
    "        # D Ave AND Avenue D, both of which exist in SF)\n",
    "        for text in li.split(' '):\n",
    "            text = text.lower()\n",
    "            if (text in alphabet) or (text in common_words):\n",
    "                specific_street = True\n",
    "        \n",
    "        # Add street names as a pattern, depending on bad_char, specific_street, and road_designator conditions\n",
    "        for text in li.split(' '):\n",
    "            text = text.lower()\n",
    "            \n",
    "            # skip blank tokens\n",
    "            if text == '':\n",
    "                continue\n",
    "            \n",
    "            # If character is a dash, ignore everything to the right of it\n",
    "            if '-' in text:\n",
    "                break\n",
    "                \n",
    "            # Check for bad characters\n",
    "            for char in text:\n",
    "                if char in bad_chars:\n",
    "                    bad_char = True\n",
    "                    # break inner loop checking chars\n",
    "                    break\n",
    "                elif char not in characters:\n",
    "                    characters.append(char)\n",
    "            # break outer loop adding text to pattern matching\n",
    "            if bad_char:\n",
    "                break\n",
    "                \n",
    "            # If street has a common name (e.g. \"A st\"), make street designator required\n",
    "            if text in road_designators:\n",
    "                if specific_street:\n",
    "                    pattern.append({'LOWER': text})\n",
    "                # If street doesn't have common name, make street designator optional\n",
    "                else:\n",
    "                    pattern.append({'LOWER': text, 'OP':'?'})\n",
    "            # If part of road name passes all other tests, part is added to pattern matcher\n",
    "            else:\n",
    "                pattern.append({'LOWER': text})\n",
    "            \n",
    "        # Add each pattern to the list of patterns, prevent adding blanks\n",
    "        # Format of dictionary is to meet requirements for EntityRuler pipeline\n",
    "        if pattern:\n",
    "            road_patterns.append({'label':'ROAD', 'pattern':pattern})\n",
    "            \n",
    "#     # Display change from original text to tokens in match pattern\n",
    "#     for li, pattern_ in zip(lis[-20:-15], road_patterns[-20:-15]):\n",
    "#         display(li.split(' '), pattern_)\n",
    "    \n",
    "    # Display all characters used in matches\n",
    "    characters.sort()\n",
    "    print('\\nAll characters included in matching patterns, look out for weird symbols:')\n",
    "    print(characters)\n",
    "    \n",
    "    # Get rid of duplicates\n",
    "    road_patterns_legit = []\n",
    "    for pattern in road_patterns:\n",
    "        if pattern not in road_patterns_legit:\n",
    "            road_patterns_legit.append(pattern)\n",
    "    road_patterns = road_patterns_legit\n",
    "    \n",
    "    print('\\nNumber of road patterns:', len(road_patterns))\n",
    "    \n",
    "    # Save patterns for later to avoid scraping over and over on reruns of code.\n",
    "    with open('road_patterns.txt', 'w+') as f:\n",
    "        f.write(str(road_patterns))"
   ]
  },
  {
   "cell_type": "markdown",
   "metadata": {},
   "source": [
    "### Scrape for Muni lines"
   ]
  },
  {
   "cell_type": "code",
   "execution_count": 20,
   "metadata": {},
   "outputs": [],
   "source": [
    "# Check if patterns already exist before scraping\n",
    "if os.path.exists('muni_patterns.txt'):\n",
    "    with open('muni_patterns.txt', 'r') as f:\n",
    "        muni_patterns = lit(f.read())\n",
    "\n",
    "# If not, scrape sfmta website for muni routes and stops\n",
    "else:\n",
    "    # go to muni website\n",
    "    street_url = 'https://www.sfmta.com/getting-around/muni/routes-stops'\n",
    "    response = requests.get(street_url)\n",
    "    print('response:', response.status_code)\n",
    "    \n",
    "    # Parse for list items from list of muni lines\n",
    "    soup = BeautifulSoup(response.text, 'lxml')\n",
    "    lis = soup.findAll(\"span\", {\"class\":\"field-content\"})\n",
    "\n",
    "    # instantiate patterns list, each pattern is a list of dictionaries describing the match\n",
    "    muni_patterns = []\n",
    "    # inst. list for muni numbers, e.g. E, 1AX, KT, etc.\n",
    "\n",
    "    # -5 index to leave out bad results from web scrape\n",
    "    for li in lis[:-5]:\n",
    "        # instantiate list of token match dictionaries\n",
    "        muni_pattern = []\n",
    "        # extract tokens\n",
    "        doc = nlp(li.text)\n",
    "\n",
    "        # optionally match inbound or outbound keywords\n",
    "        muni_pattern.append({'LOWER':{'IN':['ob', 'outbound', 'ib', 'inbound']}, 'OP':'?'})\n",
    "        # first part of muni name ('E Embarcadero') optional with this phrasing\n",
    "        muni_pattern.append({'LOWER':doc[0].text.lower(), 'OP':'?'})\n",
    "        \n",
    "        # Pattern type A examples: 'Embarcadero', 'IB Fulton', 'Outbound 9 San Bruno'\n",
    "        if len(doc) > 1:\n",
    "            for token in doc[1:]:\n",
    "                # Assign optional match patterns depending on part of speech\n",
    "                if token.pos_ in ['CCONJ', 'CONJ', 'SYM', 'PUNCT']:\n",
    "                    token_pattern = {'POS':token.pos_, 'OP':'?'}\n",
    "                # If token doesn't fall into above part of speech options, add as a word (required pattern)\n",
    "                else:\n",
    "                    token_pattern = {'LOWER':token.text.lower()}\n",
    "\n",
    "                # make list of token patterns\n",
    "                muni_pattern.append(token_pattern)\n",
    "\n",
    "        # Pattern type B examples: 'The K line', 'OB E line'\n",
    "        busline_abbr_name = [\n",
    "            {'POS':'DET', 'OP':'?'},         # conditional match \"The\", \"A\", \"An\"\n",
    "            {'LOWER':{'IN':['ob', 'outbound', 'ib', 'inbound']}, 'OP':'?'},# inbound or outbound option\n",
    "            {'LOWER':doc[0].text.lower()},   # match muni line abbriev.\n",
    "            {'LOWER':{'IN':['line', 'bus']}} # match keyword line or bus\n",
    "        ]\n",
    "        # Pattern type C examples: 'The K', 'the OB E', 'a T bus', 'the D car'\n",
    "        the_abbr_name = [\n",
    "            {'LOWER':'the'},                                               # match The\n",
    "            {'LOWER':{'IN':['ob', 'outbound', 'ib', 'inbound']}, 'OP':'?'},# inbound or outbound option\n",
    "            {'LOWER':doc[0].text.lower()},                                 # match muni line abbriev\n",
    "            {'LOWER':{'IN':['line', 'bus', \n",
    "                            'cable', 'car', \n",
    "                            'cablecar', 'train',\n",
    "                            '']}, 'OP':'?'}                     # conditional match keyword line or bus\n",
    "        ]\n",
    "\n",
    "        # add to major list, formatting for the Entity\n",
    "        for name_pattern in [busline_abbr_name, the_abbr_name]:\n",
    "            muni_patterns.append({'label':'MUNI', 'pattern':name_pattern})\n",
    "        muni_patterns.append({'label':'MUNI', 'pattern':muni_pattern})\n",
    "\n",
    "\n",
    "    print('Number of muni patterns:', len(muni_patterns))\n",
    "    # Save patterns for later to avoid scraping over and over on reruns of code.\n",
    "    with open('muni_patterns.txt', 'w+') as f:\n",
    "        f.write(str(muni_patterns))"
   ]
  },
  {
   "cell_type": "code",
   "execution_count": 21,
   "metadata": {},
   "outputs": [],
   "source": [
    "web_patterns = []\n",
    "web_patterns.append({'label':'HTAG','pattern':[{\"ORTH\": \"#\"}, {\"IS_ASCII\": True}]})\n",
    "\n",
    "# mentions show up as one token: '@whoever', whereas hashtags parse to two tokens: '#', 'whatever'\n",
    "web_patterns.append({'label':'MENTN','pattern':[{\"TEXT\":{\"REGEX\":\"@.\\S+\"}}]})"
   ]
  },
  {
   "cell_type": "code",
   "execution_count": 22,
   "metadata": {},
   "outputs": [
    {
     "data": {
      "text/plain": [
       "[{'label': 'MUNI',\n",
       "  'pattern': [{'POS': 'DET', 'OP': '?'},\n",
       "   {'LOWER': 'e'},\n",
       "   {'LOWER': {'IN': ['line', 'bus']}}]},\n",
       " {'label': 'MUNI',\n",
       "  'pattern': [{'LOWER': 'the'},\n",
       "   {'LOWER': {'IN': ['ob', 'outbound', 'ib', 'inbound']}, 'OP': '?'},\n",
       "   {'LOWER': 'e'},\n",
       "   {'LOWER': {'IN': ['line', 'bus']}, 'OP': '?'}]},\n",
       " {'label': 'MUNI',\n",
       "  'pattern': [{'LOWER': {'IN': ['ob', 'outbound', 'ib', 'inbound']},\n",
       "    'OP': '?'},\n",
       "   {'LOWER': 'e', 'OP': '?'},\n",
       "   {'LOWER': 'embarcadero'}]}]"
      ]
     },
     "metadata": {},
     "output_type": "display_data"
    },
    {
     "name": "stdout",
     "output_type": "stream",
     "text": [
      "--------------------------------------------------\n"
     ]
    },
    {
     "data": {
      "text/plain": [
       "[{'label': 'ROAD',\n",
       "  'pattern': [{'LOWER': '10th'}, {'LOWER': 'ave', 'OP': '?'}]},\n",
       " {'label': 'ROAD', 'pattern': [{'LOWER': '10th'}, {'LOWER': 'st', 'OP': '?'}]},\n",
       " {'label': 'ROAD',\n",
       "  'pattern': [{'LOWER': '11th'}, {'LOWER': 'ave', 'OP': '?'}]}]"
      ]
     },
     "metadata": {},
     "output_type": "display_data"
    }
   ],
   "source": [
    "# show head of muni_patterns and road_patterns\n",
    "display(muni_patterns[:3])\n",
    "print('-'*50)\n",
    "display(road_patterns[:3])"
   ]
  },
  {
   "cell_type": "code",
   "execution_count": 7,
   "metadata": {},
   "outputs": [],
   "source": [
    "# add road and muni patterns to NER\n",
    "ruler = EntityRuler(nlp, patterns=[*road_patterns, *muni_patterns, *web_patterns], overwrite_ents=True)\n",
    "nlp.add_pipe(ruler)"
   ]
  },
  {
   "cell_type": "markdown",
   "metadata": {},
   "source": [
    "## Load tweet data"
   ]
  },
  {
   "cell_type": "markdown",
   "metadata": {},
   "source": [
    "### Pull in tweets from .txt file\n",
    "\n",
    "Load raw tweets into list, tweets are formatted as rows of byte-strings in .txt file.  \n",
    "If loading tweets from api, will need to add a step to extract tweet text for tweets that meet XYZ criterea."
   ]
  },
  {
   "cell_type": "code",
   "execution_count": 10,
   "metadata": {},
   "outputs": [],
   "source": [
    "with open('munitweet.txt') as file:\n",
    "    raw_corpus = file.readlines()\n",
    "    # lit() interperets byte-strings, then they are decoded\n",
    "    raw_corpus = [lit(x).decode('utf-8').replace('\\n', '') for x in raw_corpus]"
   ]
  },
  {
   "cell_type": "code",
   "execution_count": 14,
   "metadata": {},
   "outputs": [
    {
     "name": "stdout",
     "output_type": "stream",
     "text": [
      "Number of tweets with exact duplicates: 500\n"
     ]
    },
    {
     "data": {
      "text/plain": [
       "\"Happy Thanksgiving! We're spending ours with some close friends. We hope you are with your tightest connections this Thanksgiving. @VTA @rideact @ACE_train @SFBART @sfmta_muni @Caltrain https://t.co/KziQOt9jmH\""
      ]
     },
     "metadata": {},
     "output_type": "display_data"
    },
    {
     "name": "stdout",
     "output_type": "stream",
     "text": [
      "--------------------------------------------------\n",
      "Number of tweets without exact duplicates: 343\n"
     ]
    },
    {
     "data": {
      "text/plain": [
       "'Just noticed FOUR @sfmta_muni fire inspectors chatting up a storm at West Portal.  Don’t seem to be doing any work so what R they needed for?  More importantly, why 4?  If inspecting trains, numerous trains came and went w/o them getting on!'"
      ]
     },
     "metadata": {},
     "output_type": "display_data"
    }
   ],
   "source": [
    "# Look at raw corpus, get an example tweet\n",
    "corpus = []\n",
    "print('Number of tweets with exact duplicates:',len(raw_corpus))\n",
    "display(raw_corpus[200])\n",
    "\n",
    "# Remove duplicates\n",
    "for tweet in raw_corpus:\n",
    "    if tweet not in corpus:\n",
    "        corpus.append(tweet)\n",
    "print('-'*50)\n",
    "\n",
    "# Look again after removing dups\n",
    "print('Number of tweets without exact duplicates:', len(corpus))\n",
    "display(corpus[200])"
   ]
  },
  {
   "cell_type": "markdown",
   "metadata": {},
   "source": [
    "## Running NER with exact match patterns\n",
    "Note that the NER has not been trained, it's looking exactly for the match phrases using the EntityRuler(), and also matching any other pre-trained entities from the 'en_core_web_sm' model."
   ]
  },
  {
   "cell_type": "code",
   "execution_count": 15,
   "metadata": {},
   "outputs": [],
   "source": [
    "spacy_docs = list(nlp.pipe(corpus))"
   ]
  },
  {
   "cell_type": "code",
   "execution_count": 16,
   "metadata": {},
   "outputs": [],
   "source": [
    "# Filter docs for symbols, stop words, punctuation, and urls\n",
    "spacy_texts = [[token.text.lower() for token in doc \n",
    "                if not token.is_stop \n",
    "                and not token.is_punct \n",
    "                and not token.text.startswith('http')\n",
    "                and not token.text.startswith('@')\n",
    "                and not token.text.startswith('#')\n",
    "                and not token.like_url\n",
    "               ] \n",
    "               for doc in spacy_docs]\n",
    "\n",
    "# Make docs from text. Check for empty lists of strings.\n",
    "filtered_docs = [Doc(nlp.vocab, words=words) for words in spacy_texts if words]\n"
   ]
  },
  {
   "cell_type": "code",
   "execution_count": 17,
   "metadata": {},
   "outputs": [
    {
     "data": {
      "text/plain": [
       "[sf muni l taraval san francisco ,\n",
       " like rate ride feature muni mobile app add option types feedback   example arrival predictions 24 line minutes whack tonight   wondering new metro cars jerky ,\n",
       " people live work san francisco proud supporting proposed standard zero emission buses ,\n",
       " 35 min+ n embarcadero plenty double cars going unacceptable ,\n",
       " thing add angled parking city core anytime ’s street project ,\n",
       " like eta n 21 mins means 45 mins n ob special place hell muni leadership ,\n",
       " unpredictable shitty hate guys ,\n",
       " wait 4th&amp;king 20 mins train w/o marked route arrives people jump w/ assumption ’s n ob embarcadero muni says f u switching k. hop k waiting tracks n 10 mins ,\n",
       " sooooo njudah difficult track ’s early evening embarcadero station predicted wait time 28 min staff said screens incorrect ’s 10 min ’m waiting y’ crystal ballin ,\n",
       " pls send 31 ]"
      ]
     },
     "execution_count": 17,
     "metadata": {},
     "output_type": "execute_result"
    }
   ],
   "source": [
    "filtered_docs[:10]"
   ]
  },
  {
   "cell_type": "code",
   "execution_count": 18,
   "metadata": {},
   "outputs": [
    {
     "name": "stdin",
     "output_type": "stream",
     "text": [
      "How many tweets do you want to look at?  6\n",
      "Starting from?  210\n"
     ]
    },
    {
     "data": {
      "text/html": [
       "<div class=\"entities\" style=\"line-height: 2.5; direction: ltr\">\n",
       "<mark class=\"entity\" style=\"background: pink; padding: 0.45em 0.6em; margin: 0 0.25em; line-height: 1; border-radius: 0.35em; box-decoration-break: clone; -webkit-box-decoration-break: clone\">\n",
       "    @derivativeburke\n",
       "    <span style=\"font-size: 0.8em; font-weight: bold; line-height: 1; border-radius: 0.35em; text-transform: uppercase; vertical-align: middle; margin-left: 0.5rem\">MENTN</span>\n",
       "</mark>\n",
       " \n",
       "<mark class=\"entity\" style=\"background: pink; padding: 0.45em 0.6em; margin: 0 0.25em; line-height: 1; border-radius: 0.35em; box-decoration-break: clone; -webkit-box-decoration-break: clone\">\n",
       "    @Caltrain\n",
       "    <span style=\"font-size: 0.8em; font-weight: bold; line-height: 1; border-radius: 0.35em; text-transform: uppercase; vertical-align: middle; margin-left: 0.5rem\">MENTN</span>\n",
       "</mark>\n",
       " \n",
       "<mark class=\"entity\" style=\"background: pink; padding: 0.45em 0.6em; margin: 0 0.25em; line-height: 1; border-radius: 0.35em; box-decoration-break: clone; -webkit-box-decoration-break: clone\">\n",
       "    @VTA\n",
       "    <span style=\"font-size: 0.8em; font-weight: bold; line-height: 1; border-radius: 0.35em; text-transform: uppercase; vertical-align: middle; margin-left: 0.5rem\">MENTN</span>\n",
       "</mark>\n",
       " \n",
       "<mark class=\"entity\" style=\"background: pink; padding: 0.45em 0.6em; margin: 0 0.25em; line-height: 1; border-radius: 0.35em; box-decoration-break: clone; -webkit-box-decoration-break: clone\">\n",
       "    @rideact\n",
       "    <span style=\"font-size: 0.8em; font-weight: bold; line-height: 1; border-radius: 0.35em; text-transform: uppercase; vertical-align: middle; margin-left: 0.5rem\">MENTN</span>\n",
       "</mark>\n",
       " \n",
       "<mark class=\"entity\" style=\"background: pink; padding: 0.45em 0.6em; margin: 0 0.25em; line-height: 1; border-radius: 0.35em; box-decoration-break: clone; -webkit-box-decoration-break: clone\">\n",
       "    @ACE_train\n",
       "    <span style=\"font-size: 0.8em; font-weight: bold; line-height: 1; border-radius: 0.35em; text-transform: uppercase; vertical-align: middle; margin-left: 0.5rem\">MENTN</span>\n",
       "</mark>\n",
       " \n",
       "<mark class=\"entity\" style=\"background: pink; padding: 0.45em 0.6em; margin: 0 0.25em; line-height: 1; border-radius: 0.35em; box-decoration-break: clone; -webkit-box-decoration-break: clone\">\n",
       "    @SFBART\n",
       "    <span style=\"font-size: 0.8em; font-weight: bold; line-height: 1; border-radius: 0.35em; text-transform: uppercase; vertical-align: middle; margin-left: 0.5rem\">MENTN</span>\n",
       "</mark>\n",
       " \n",
       "<mark class=\"entity\" style=\"background: pink; padding: 0.45em 0.6em; margin: 0 0.25em; line-height: 1; border-radius: 0.35em; box-decoration-break: clone; -webkit-box-decoration-break: clone\">\n",
       "    @sfmta_muni\n",
       "    <span style=\"font-size: 0.8em; font-weight: bold; line-height: 1; border-radius: 0.35em; text-transform: uppercase; vertical-align: middle; margin-left: 0.5rem\">MENTN</span>\n",
       "</mark>\n",
       " We’re pretty good at Photoshop.</div>"
      ],
      "text/plain": [
       "<IPython.core.display.HTML object>"
      ]
     },
     "metadata": {},
     "output_type": "display_data"
    },
    {
     "name": "stdout",
     "output_type": "stream",
     "text": [
      "--------------------------------------------------\n"
     ]
    },
    {
     "data": {
      "text/html": [
       "<div class=\"entities\" style=\"line-height: 2.5; direction: ltr\">Special thanks \n",
       "<mark class=\"entity\" style=\"background: pink; padding: 0.45em 0.6em; margin: 0 0.25em; line-height: 1; border-radius: 0.35em; box-decoration-break: clone; -webkit-box-decoration-break: clone\">\n",
       "    @SFBART\n",
       "    <span style=\"font-size: 0.8em; font-weight: bold; line-height: 1; border-radius: 0.35em; text-transform: uppercase; vertical-align: middle; margin-left: 0.5rem\">MENTN</span>\n",
       "</mark>\n",
       ", \n",
       "<mark class=\"entity\" style=\"background: pink; padding: 0.45em 0.6em; margin: 0 0.25em; line-height: 1; border-radius: 0.35em; box-decoration-break: clone; -webkit-box-decoration-break: clone\">\n",
       "    @Caltrain\n",
       "    <span style=\"font-size: 0.8em; font-weight: bold; line-height: 1; border-radius: 0.35em; text-transform: uppercase; vertical-align: middle; margin-left: 0.5rem\">MENTN</span>\n",
       "</mark>\n",
       ", \n",
       "<mark class=\"entity\" style=\"background: pink; padding: 0.45em 0.6em; margin: 0 0.25em; line-height: 1; border-radius: 0.35em; box-decoration-break: clone; -webkit-box-decoration-break: clone\">\n",
       "    @sfmta_muni\n",
       "    <span style=\"font-size: 0.8em; font-weight: bold; line-height: 1; border-radius: 0.35em; text-transform: uppercase; vertical-align: middle; margin-left: 0.5rem\">MENTN</span>\n",
       "</mark>\n",
       ", \n",
       "<mark class=\"entity\" style=\"background: pink; padding: 0.45em 0.6em; margin: 0 0.25em; line-height: 1; border-radius: 0.35em; box-decoration-break: clone; -webkit-box-decoration-break: clone\">\n",
       "    @VTA\n",
       "    <span style=\"font-size: 0.8em; font-weight: bold; line-height: 1; border-radius: 0.35em; text-transform: uppercase; vertical-align: middle; margin-left: 0.5rem\">MENTN</span>\n",
       "</mark>\n",
       " light rail &amp;amp; bus, \n",
       "<mark class=\"entity\" style=\"background: pink; padding: 0.45em 0.6em; margin: 0 0.25em; line-height: 1; border-radius: 0.35em; box-decoration-break: clone; -webkit-box-decoration-break: clone\">\n",
       "    @Stanford\n",
       "    <span style=\"font-size: 0.8em; font-weight: bold; line-height: 1; border-radius: 0.35em; text-transform: uppercase; vertical-align: middle; margin-left: 0.5rem\">MENTN</span>\n",
       "</mark>\n",
       " Marguerite \n",
       "<mark class=\"entity\" style=\"background: lightblue; padding: 0.45em 0.6em; margin: 0 0.25em; line-height: 1; border-radius: 0.35em; box-decoration-break: clone; -webkit-box-decoration-break: clone\">\n",
       "    Shuttle\n",
       "    <span style=\"font-size: 0.8em; font-weight: bold; line-height: 1; border-radius: 0.35em; text-transform: uppercase; vertical-align: middle; margin-left: 0.5rem\">MUNI</span>\n",
       "</mark>\n",
       ", &amp;amp; \n",
       "<mark class=\"entity\" style=\"background: pink; padding: 0.45em 0.6em; margin: 0 0.25em; line-height: 1; border-radius: 0.35em; box-decoration-break: clone; -webkit-box-decoration-break: clone\">\n",
       "    @mtnviewcityhall\n",
       "    <span style=\"font-size: 0.8em; font-weight: bold; line-height: 1; border-radius: 0.35em; text-transform: uppercase; vertical-align: middle; margin-left: 0.5rem\">MENTN</span>\n",
       "</mark>\n",
       " Community \n",
       "<mark class=\"entity\" style=\"background: lightblue; padding: 0.45em 0.6em; margin: 0 0.25em; line-height: 1; border-radius: 0.35em; box-decoration-break: clone; -webkit-box-decoration-break: clone\">\n",
       "    Shuttle\n",
       "    <span style=\"font-size: 0.8em; font-weight: bold; line-height: 1; border-radius: 0.35em; text-transform: uppercase; vertical-align: middle; margin-left: 0.5rem\">MUNI</span>\n",
       "</mark>\n",
       " for their excellent service during our travels in the Bay Area last week!</div>"
      ],
      "text/plain": [
       "<IPython.core.display.HTML object>"
      ]
     },
     "metadata": {},
     "output_type": "display_data"
    },
    {
     "name": "stdout",
     "output_type": "stream",
     "text": [
      "--------------------------------------------------\n"
     ]
    },
    {
     "data": {
      "text/html": [
       "<div class=\"entities\" style=\"line-height: 2.5; direction: ltr\">\n",
       "<mark class=\"entity\" style=\"background: pink; padding: 0.45em 0.6em; margin: 0 0.25em; line-height: 1; border-radius: 0.35em; box-decoration-break: clone; -webkit-box-decoration-break: clone\">\n",
       "    .@sfmta_muni\n",
       "    <span style=\"font-size: 0.8em; font-weight: bold; line-height: 1; border-radius: 0.35em; text-transform: uppercase; vertical-align: middle; margin-left: 0.5rem\">MENTN</span>\n",
       "</mark>\n",
       " Not sure who this bus driver is, but thanks for literally shrugging at me, driving away, and not picking me up a few minutes ago at \n",
       "<mark class=\"entity\" style=\"background: yellow; padding: 0.45em 0.6em; margin: 0 0.25em; line-height: 1; border-radius: 0.35em; box-decoration-break: clone; -webkit-box-decoration-break: clone\">\n",
       "    Hyde\n",
       "    <span style=\"font-size: 0.8em; font-weight: bold; line-height: 1; border-radius: 0.35em; text-transform: uppercase; vertical-align: middle; margin-left: 0.5rem\">ROAD</span>\n",
       "</mark>\n",
       " and \n",
       "<mark class=\"entity\" style=\"background: yellow; padding: 0.45em 0.6em; margin: 0 0.25em; line-height: 1; border-radius: 0.35em; box-decoration-break: clone; -webkit-box-decoration-break: clone\">\n",
       "    California\n",
       "    <span style=\"font-size: 0.8em; font-weight: bold; line-height: 1; border-radius: 0.35em; text-transform: uppercase; vertical-align: middle; margin-left: 0.5rem\">ROAD</span>\n",
       "</mark>\n",
       ", dude.Guess I’ll just stand here and wait for another one https://t.co/JY8G23DsF0</div>"
      ],
      "text/plain": [
       "<IPython.core.display.HTML object>"
      ]
     },
     "metadata": {},
     "output_type": "display_data"
    },
    {
     "name": "stdout",
     "output_type": "stream",
     "text": [
      "--------------------------------------------------\n"
     ]
    },
    {
     "data": {
      "text/html": [
       "<div class=\"entities\" style=\"line-height: 2.5; direction: ltr\">ATTN: Due to reports of possible sinkhole near \n",
       "<mark class=\"entity\" style=\"background: yellow; padding: 0.45em 0.6em; margin: 0 0.25em; line-height: 1; border-radius: 0.35em; box-decoration-break: clone; -webkit-box-decoration-break: clone\">\n",
       "    Ellsworth\n",
       "    <span style=\"font-size: 0.8em; font-weight: bold; line-height: 1; border-radius: 0.35em; text-transform: uppercase; vertical-align: middle; margin-left: 0.5rem\">ROAD</span>\n",
       "</mark>\n",
       " and \n",
       "<mark class=\"entity\" style=\"background: yellow; padding: 0.45em 0.6em; margin: 0 0.25em; line-height: 1; border-radius: 0.35em; box-decoration-break: clone; -webkit-box-decoration-break: clone\">\n",
       "    Alemany\n",
       "    <span style=\"font-size: 0.8em; font-weight: bold; line-height: 1; border-radius: 0.35em; text-transform: uppercase; vertical-align: middle; margin-left: 0.5rem\">ROAD</span>\n",
       "</mark>\n",
       ", the \n",
       "<mark class=\"entity\" style=\"background: lightblue; padding: 0.45em 0.6em; margin: 0 0.25em; line-height: 1; border-radius: 0.35em; box-decoration-break: clone; -webkit-box-decoration-break: clone\">\n",
       "    67 Bernal Heights\n",
       "    <span style=\"font-size: 0.8em; font-weight: bold; line-height: 1; border-radius: 0.35em; text-transform: uppercase; vertical-align: middle; margin-left: 0.5rem\">MUNI</span>\n",
       "</mark>\n",
       " Route is routing around the area. Will update.</div>"
      ],
      "text/plain": [
       "<IPython.core.display.HTML object>"
      ]
     },
     "metadata": {},
     "output_type": "display_data"
    },
    {
     "name": "stdout",
     "output_type": "stream",
     "text": [
      "--------------------------------------------------\n"
     ]
    },
    {
     "data": {
      "text/html": [
       "<div class=\"entities\" style=\"line-height: 2.5; direction: ltr\">\n",
       "<mark class=\"entity\" style=\"background: pink; padding: 0.45em 0.6em; margin: 0 0.25em; line-height: 1; border-radius: 0.35em; box-decoration-break: clone; -webkit-box-decoration-break: clone\">\n",
       "    @_hyp3ri0n\n",
       "    <span style=\"font-size: 0.8em; font-weight: bold; line-height: 1; border-radius: 0.35em; text-transform: uppercase; vertical-align: middle; margin-left: 0.5rem\">MENTN</span>\n",
       "</mark>\n",
       " \n",
       "<mark class=\"entity\" style=\"background: pink; padding: 0.45em 0.6em; margin: 0 0.25em; line-height: 1; border-radius: 0.35em; box-decoration-break: clone; -webkit-box-decoration-break: clone\">\n",
       "    @ericuman\n",
       "    <span style=\"font-size: 0.8em; font-weight: bold; line-height: 1; border-radius: 0.35em; text-transform: uppercase; vertical-align: middle; margin-left: 0.5rem\">MENTN</span>\n",
       "</mark>\n",
       " \n",
       "<mark class=\"entity\" style=\"background: pink; padding: 0.45em 0.6em; margin: 0 0.25em; line-height: 1; border-radius: 0.35em; box-decoration-break: clone; -webkit-box-decoration-break: clone\">\n",
       "    @mat\n",
       "    <span style=\"font-size: 0.8em; font-weight: bold; line-height: 1; border-radius: 0.35em; text-transform: uppercase; vertical-align: middle; margin-left: 0.5rem\">MENTN</span>\n",
       "</mark>\n",
       " \n",
       "<mark class=\"entity\" style=\"background: pink; padding: 0.45em 0.6em; margin: 0 0.25em; line-height: 1; border-radius: 0.35em; box-decoration-break: clone; -webkit-box-decoration-break: clone\">\n",
       "    @marshall_allen\n",
       "    <span style=\"font-size: 0.8em; font-weight: bold; line-height: 1; border-radius: 0.35em; text-transform: uppercase; vertical-align: middle; margin-left: 0.5rem\">MENTN</span>\n",
       "</mark>\n",
       " \n",
       "<mark class=\"entity\" style=\"background: pink; padding: 0.45em 0.6em; margin: 0 0.25em; line-height: 1; border-radius: 0.35em; box-decoration-break: clone; -webkit-box-decoration-break: clone\">\n",
       "    @sfmta_muni\n",
       "    <span style=\"font-size: 0.8em; font-weight: bold; line-height: 1; border-radius: 0.35em; text-transform: uppercase; vertical-align: middle; margin-left: 0.5rem\">MENTN</span>\n",
       "</mark>\n",
       " Honestly what the fuck!</div>"
      ],
      "text/plain": [
       "<IPython.core.display.HTML object>"
      ]
     },
     "metadata": {},
     "output_type": "display_data"
    },
    {
     "name": "stdout",
     "output_type": "stream",
     "text": [
      "--------------------------------------------------\n"
     ]
    },
    {
     "data": {
      "text/html": [
       "<div class=\"entities\" style=\"line-height: 2.5; direction: ltr\">\n",
       "<mark class=\"entity\" style=\"background: pink; padding: 0.45em 0.6em; margin: 0 0.25em; line-height: 1; border-radius: 0.35em; box-decoration-break: clone; -webkit-box-decoration-break: clone\">\n",
       "    @ericuman\n",
       "    <span style=\"font-size: 0.8em; font-weight: bold; line-height: 1; border-radius: 0.35em; text-transform: uppercase; vertical-align: middle; margin-left: 0.5rem\">MENTN</span>\n",
       "</mark>\n",
       " \n",
       "<mark class=\"entity\" style=\"background: pink; padding: 0.45em 0.6em; margin: 0 0.25em; line-height: 1; border-radius: 0.35em; box-decoration-break: clone; -webkit-box-decoration-break: clone\">\n",
       "    @mat\n",
       "    <span style=\"font-size: 0.8em; font-weight: bold; line-height: 1; border-radius: 0.35em; text-transform: uppercase; vertical-align: middle; margin-left: 0.5rem\">MENTN</span>\n",
       "</mark>\n",
       " \n",
       "<mark class=\"entity\" style=\"background: pink; padding: 0.45em 0.6em; margin: 0 0.25em; line-height: 1; border-radius: 0.35em; box-decoration-break: clone; -webkit-box-decoration-break: clone\">\n",
       "    @marshall_allen\n",
       "    <span style=\"font-size: 0.8em; font-weight: bold; line-height: 1; border-radius: 0.35em; text-transform: uppercase; vertical-align: middle; margin-left: 0.5rem\">MENTN</span>\n",
       "</mark>\n",
       " \n",
       "<mark class=\"entity\" style=\"background: pink; padding: 0.45em 0.6em; margin: 0 0.25em; line-height: 1; border-radius: 0.35em; box-decoration-break: clone; -webkit-box-decoration-break: clone\">\n",
       "    @sfmta_muni\n",
       "    <span style=\"font-size: 0.8em; font-weight: bold; line-height: 1; border-radius: 0.35em; text-transform: uppercase; vertical-align: middle; margin-left: 0.5rem\">MENTN</span>\n",
       "</mark>\n",
       " seriously though WHAT THE FUCK</div>"
      ],
      "text/plain": [
       "<IPython.core.display.HTML object>"
      ]
     },
     "metadata": {},
     "output_type": "display_data"
    },
    {
     "name": "stdout",
     "output_type": "stream",
     "text": [
      "--------------------------------------------------\n"
     ]
    }
   ],
   "source": [
    "# Using DisplaCy to render entity matches, according to the nlp + added EntityRuler (exact match)\n",
    "# Choose which docs to use - note: filtered_docs doesn't work at the moment\n",
    "docs = spacy_docs\n",
    "# docs = filtered_docs # Not working yet\n",
    "\n",
    "try:\n",
    "    num_tweets = int(input('How many tweets do you want to look at? '))\n",
    "    num_start = int(input('Starting from? '))\n",
    "    \n",
    "#     [num_start:num_start+num_tweets]\n",
    "    # options excludes viewing other entities, comment it out to see all entities.\n",
    "    ents = [\"ROAD\", \"MUNI\", \"HTAG\", \"MENTN\"]\n",
    "    colors = [\"yellow\", \"lightblue\", \"green\", \"pink\"]\n",
    "    options = {\"ents\": ents, \n",
    "               \"colors\": dict(zip(ents, colors))}\n",
    "\n",
    "    if options:\n",
    "        for doc in docs[num_start:num_start+num_tweets]:\n",
    "            displacy.render(doc, style=\"ent\", options=options)\n",
    "            print('-'*50)\n",
    "    else:\n",
    "        for doc in docs[num_start:num_start+num_tweets]:\n",
    "            displacy.render(doc, style=\"ent\")\n",
    "            print('-'*50)\n",
    "except:\n",
    "    print('Error while displaying results, \\nTry entering number as an integer')"
   ]
  },
  {
   "cell_type": "markdown",
   "metadata": {},
   "source": [
    "### Desired format for training data\n",
    "\n",
    "```\n",
    "TRAINING_DATA = [\n",
    "    (\"first_string_being_labelled\", {\"entities\": [(start_char_index, end_char_index, \"LABEL\"), ...]}),\n",
    "    (\"second_string_being_labelled\", {\"entities\": [(start_char_index, end_char_index, \"LABEL\"), ...]}),\n",
    "    ...\n",
    "]\n",
    "```\n",
    "Problems:  \n",
    "* Need to get character start index for recognized entity, not token index\n",
    "    * Solved! Use doc.to_json to output a json with all necessary information"
   ]
  },
  {
   "cell_type": "code",
   "execution_count": 17,
   "metadata": {},
   "outputs": [],
   "source": [
    "# Note NLP pipeline needs to have EntityRuler in it at this point.\n",
    "spacy_docs = nlp.pipe(corpus)\n",
    "spacy_docs = list(spacy_docs)"
   ]
  },
  {
   "cell_type": "code",
   "execution_count": 18,
   "metadata": {},
   "outputs": [],
   "source": [
    "TRAINING_DATA = []\n",
    "for doc in spacy_docs:\n",
    "    ents = [ent.label_ for ent in doc.ents]\n",
    "    if 'MUNI' in ents:\n",
    "        json_doc = doc.to_json()\n",
    "        training_tuple = (json_doc['text'], {'entities': json_doc['ents']})\n",
    "    TRAINING_DATA.append(training_tuple)"
   ]
  },
  {
   "cell_type": "code",
   "execution_count": 19,
   "metadata": {},
   "outputs": [
    {
     "data": {
      "text/plain": [
       "[(\"I'm at SF MUNI - L Taraval - @sfmta_muni in San Francisco, CA https://t.co/3N1JXENWs4\",\n",
       "  {'entities': [{'start': 7, 'end': 14, 'label': 'ORG'},\n",
       "    {'start': 17, 'end': 26, 'label': 'MUNI'},\n",
       "    {'start': 29, 'end': 40, 'label': 'MENTN'},\n",
       "    {'start': 44, 'end': 57, 'label': 'GPE'}]}),\n",
       " (\"I'm at SF MUNI - L Taraval - @sfmta_muni in San Francisco, CA https://t.co/3N1JXENWs4\",\n",
       "  {'entities': [{'start': 7, 'end': 14, 'label': 'ORG'},\n",
       "    {'start': 17, 'end': 26, 'label': 'MUNI'},\n",
       "    {'start': 29, 'end': 40, 'label': 'MENTN'},\n",
       "    {'start': 44, 'end': 57, 'label': 'GPE'}]}),\n",
       " ('@sfmta_muni I like the Rate My Ride feature in the Muni Mobile app, but can you add an option to give other types of feedback?  For example, arrival predictions on the 24 line are several minutes out of whack tonight.  Or wondering if the new Metro cars will always be so jerky?',\n",
       "  {'entities': [{'start': 0, 'end': 11, 'label': 'MENTN'},\n",
       "    {'start': 164, 'end': 175, 'label': 'MUNI'},\n",
       "    {'start': 180, 'end': 195, 'label': 'TIME'},\n",
       "    {'start': 209, 'end': 216, 'label': 'TIME'},\n",
       "    {'start': 243, 'end': 248, 'label': 'FAC'}]})]"
      ]
     },
     "execution_count": 19,
     "metadata": {},
     "output_type": "execute_result"
    }
   ],
   "source": [
    "TRAINING_DATA[:3]"
   ]
  },
  {
   "cell_type": "code",
   "execution_count": null,
   "metadata": {},
   "outputs": [],
   "source": []
  }
 ],
 "metadata": {
  "kernelspec": {
   "display_name": "Python 3",
   "language": "python",
   "name": "python3"
  },
  "language_info": {
   "codemirror_mode": {
    "name": "ipython",
    "version": 3
   },
   "file_extension": ".py",
   "mimetype": "text/x-python",
   "name": "python",
   "nbconvert_exporter": "python",
   "pygments_lexer": "ipython3",
   "version": "3.7.2"
  }
 },
 "nbformat": 4,
 "nbformat_minor": 2
}
